{
  "nbformat": 4,
  "nbformat_minor": 0,
  "metadata": {
    "colab": {
      "provenance": [],
      "authorship_tag": "ABX9TyO6LJLrVJ6NTuQkoOAP+U2S",
      "include_colab_link": true
    },
    "kernelspec": {
      "name": "python3",
      "display_name": "Python 3"
    },
    "language_info": {
      "name": "python"
    }
  },
  "cells": [
    {
      "cell_type": "markdown",
      "metadata": {
        "id": "view-in-github",
        "colab_type": "text"
      },
      "source": [
        "<a href=\"https://colab.research.google.com/github/CaioMarcF/Analise_Invest/blob/main/Lista_1_Samanez.ipynb\" target=\"_parent\"><img src=\"https://colab.research.google.com/assets/colab-badge.svg\" alt=\"Open In Colab\"/></a>"
      ]
    },
    {
      "cell_type": "markdown",
      "source": [
        "Lista de exercícios do livro Samanez\n",
        "Capítulo 1"
      ],
      "metadata": {
        "id": "QkrvemxeQNsa"
      }
    },
    {
      "cell_type": "markdown",
      "source": [],
      "metadata": {
        "id": "jUnn3x4gQQMp"
      }
    },
    {
      "cell_type": "code",
      "execution_count": 8,
      "metadata": {
        "id": "QyVLXCkfQJZ7"
      },
      "outputs": [],
      "source": [
        "import sympy\n",
        "S, P, i, n = sympy.symbols('S P i n')"
      ]
    },
    {
      "cell_type": "code",
      "source": [
        "#Calcular o rendimento (R) de um capital de $80.000 aplicado durante 28 dias à taxa de juros simples\n",
        "#de 26% a.m.\n",
        "\n",
        "P = 80000\n",
        "i = 0.26\n",
        "n = 28/30\n",
        "\n",
        "R = P * (i * n)\n",
        "\n",
        "R"
      ],
      "metadata": {
        "colab": {
          "base_uri": "https://localhost:8080/"
        },
        "id": "3hfQTTCwRANG",
        "outputId": "ad8d4589-edcf-45ec-8577-4bc123e693d5"
      },
      "execution_count": 12,
      "outputs": [
        {
          "output_type": "execute_result",
          "data": {
            "text/plain": [
              "19413.333333333332"
            ]
          },
          "metadata": {},
          "execution_count": 12
        }
      ]
    },
    {
      "cell_type": "code",
      "source": [
        "#Um capital aplicado transformou-se em $13.000. Considerando uma taxa de juros simples de 42% a.a.\n",
        "#e uma remuneração de $4.065,29, determinar o prazo da aplicação.\n",
        "\n",
        "S = 13000\n",
        "R = 4065.29\n",
        "i = 0.42\n",
        "\n",
        "P = S - R\n",
        "\n",
        "#R = P * (i * n)\n",
        "\n",
        "n = R / (P * i)\n",
        "\n",
        "n\n",
        "\n",
        "# 0,083332... * 12 é aproximadamente 1\n",
        "\n",
        "# n é 1 ano e 1 mês"
      ],
      "metadata": {
        "colab": {
          "base_uri": "https://localhost:8080/"
        },
        "id": "UktDz3LPSYRv",
        "outputId": "88835678-ae25-4592-9066-2e3fa22690de"
      },
      "execution_count": 33,
      "outputs": [
        {
          "output_type": "execute_result",
          "data": {
            "text/plain": [
              "1.083332520558799"
            ]
          },
          "metadata": {},
          "execution_count": 33
        }
      ]
    },
    {
      "cell_type": "code",
      "source": [
        "#Um capital acrescido de seus juros de 21 meses soma $156.400. O mesmo capital diminuído de seus\n",
        "#juros de nove meses é reduzido a $88.400. Calcular o capital e a taxa de juros simples obtidos.\n",
        "\n",
        "P, i = sympy.symbols('P i')\n",
        "\n",
        "eq1 = sympy.Eq(P* (1 + 21 * i), 156400)\n",
        "\n",
        "eq2 = sympy.Eq(P * (1 - 9 * i), 88400)\n",
        "\n",
        "\n",
        "solucao = sympy.solve((eq1, eq2), (P, i))\n",
        "\n",
        "print(f\"{solucao[0][0]}\")\n",
        "print(f\"{solucao[0][1] * 12} a.a.\")"
      ],
      "metadata": {
        "colab": {
          "base_uri": "https://localhost:8080/"
        },
        "id": "P51HvNenhddJ",
        "outputId": "bbad5d0c-3ebd-4fea-f8dc-c217eaf306ca"
      },
      "execution_count": 43,
      "outputs": [
        {
          "output_type": "stream",
          "name": "stdout",
          "text": [
            "108800\n",
            "1/4 a.a.\n"
          ]
        }
      ]
    },
    {
      "cell_type": "code",
      "source": [
        "#Um capital foi aplicado a juros simples de 42% a.a. durante 50 dias. Calcular o capital, sabendo-se\n",
        "#que, se a diferença entre ele e os juros obtidos fosse aplicada à mesma taxa, renderia $988,75 em\n",
        "#um trimestre.\n",
        "\n",
        "P = sympy.symbols('P')\n",
        "\n",
        "i = 0.42 / 360\n",
        "\n",
        "# R = P * i * 90\n",
        "# P - R = 988.75\n",
        "\n",
        "#(P - (P * i * 50)) * i * 90 = 988.75\n",
        "\n",
        "eq1 = sympy.Eq((P - (P * i * 50)) * i * 90 , 988.75)\n",
        "\n",
        "solucao = sympy.solve((eq1), (P))\n",
        "print(round(solucao[0]))\n"
      ],
      "metadata": {
        "colab": {
          "base_uri": "https://localhost:8080/"
        },
        "id": "44_ZD5O-jfgc",
        "outputId": "7e5f4056-0d6d-4436-eda2-9b43bdf0823a"
      },
      "execution_count": 53,
      "outputs": [
        {
          "output_type": "stream",
          "name": "stdout",
          "text": [
            "10000\n"
          ]
        }
      ]
    },
    {
      "cell_type": "code",
      "source": [
        "#Há 13 meses e dez dias, um capital de $10.000 foi aplicado à taxa de juros simples de 6% a.a.\n",
        "#Se hoje fosse aplicada a importância de $8.000 a juros simples de 12% a.a., e o primeiro capital\n",
        "#continuar aplicado à mesma taxa, em que prazo os montantes respectivos seriam iguais?\n",
        "\n",
        "n = sympy.symbols('n')\n",
        "\n",
        "\n",
        "P1 = 10000\n",
        "P2 = 8000\n",
        "\n",
        "i1 = 0.06 / 360\n",
        "i2 = 0.12 / 360\n",
        "\n",
        "#tempo para o primeiro capital (13 meses e 10 dias)\n",
        "n1 = 360 + 30 + 10\n",
        "\n",
        "#equação para o montante igual\n",
        "S1 = P1 * (1 + i1 * (n + n1))\n",
        "S2 = P2 * (1 + i2 * n)\n",
        "#igualando as equações\n",
        "eqs = sympy.Eq(S1, S2)\n",
        "\n",
        "solucao = sympy.solve(eqs, n)\n",
        "print(f\"{round(solucao[0])} dias\")\n"
      ],
      "metadata": {
        "colab": {
          "base_uri": "https://localhost:8080/"
        },
        "id": "JE4ben7ioLxV",
        "outputId": "19282593-d823-40f0-c0f4-07c7ffcb476d"
      },
      "execution_count": 65,
      "outputs": [
        {
          "output_type": "stream",
          "name": "stdout",
          "text": [
            "2667 dias\n"
          ]
        }
      ]
    },
    {
      "cell_type": "code",
      "source": [
        "#Um capital foi dividido em duas parcelas e aplicado a taxas e prazos diferentes. A primeira foi\n",
        "#aplicada a juros simples de 10% a.m. durante seis meses, e a segunda, a juros simples de 2% a.m.\n",
        "#durante 12 meses. Se a primeira parcela for $50 maior e render $60 a mais que a segunda, determinar os valores de ambas as parcelas.\n",
        "\n",
        "P1, P2 = sympy.symbols('P1 P2')\n",
        "i1 = 0.1\n",
        "i2 = 0.02\n",
        "\n",
        "\n",
        "#P1 - P2 = 50\n",
        "eq1 = sympy.Eq(P1 - P2, 50)\n",
        "\n",
        "#i1 * 6 * P1 = i2 * 12 * P2 + 60\n",
        "\n",
        "eq2 = sympy.Eq(i1 * 6 * P1, i2 * 12 * P2 + 60)\n",
        "\n",
        "\n",
        "solucao = sympy.solve((eq1, eq2), (P1, P2))\n",
        "solucao"
      ],
      "metadata": {
        "colab": {
          "base_uri": "https://localhost:8080/"
        },
        "id": "Bs4Q8erEriWN",
        "outputId": "b8878d97-855f-4a05-eb0f-fb02b93cc907"
      },
      "execution_count": 73,
      "outputs": [
        {
          "output_type": "execute_result",
          "data": {
            "text/plain": [
              "{P1: 133.333333333333, P2: 83.3333333333333}"
            ]
          },
          "metadata": {},
          "execution_count": 73
        }
      ]
    },
    {
      "cell_type": "code",
      "source": [
        "#Dois capitais foram colocados a juros simples, o primeiro à taxa de 20% a.a. e o segundo à de 40% a.a.\n",
        "#Calcular os capitais, sabendo-se que, somados, eles montam $500 e que os dois, em um ano, renderam juros totais de $130\n",
        "\n",
        "P1, P2 = sympy.symbols('P1 P2')\n",
        "\n",
        "# P1 + P2 = 500\n",
        "\n",
        "eq1 = sympy.Eq(P1 + P2, 500)\n",
        "\n",
        "#0.2 * P1 + 0.4 * P2 = 130\n",
        "\n",
        "eq2 = sympy.Eq(0.2 * P1 + 0.4 * P2, 130)\n",
        "\n",
        "solucao = sympy.solve((eq1, eq2), (P1, P2))\n",
        "solucao"
      ],
      "metadata": {
        "colab": {
          "base_uri": "https://localhost:8080/"
        },
        "id": "A3h5pO6ouCKQ",
        "outputId": "42f3d2ef-d4c3-480c-bc4b-b524433dfe26"
      },
      "execution_count": 74,
      "outputs": [
        {
          "output_type": "execute_result",
          "data": {
            "text/plain": [
              "{P1: 350.000000000000, P2: 150.000000000000}"
            ]
          },
          "metadata": {},
          "execution_count": 74
        }
      ]
    },
    {
      "cell_type": "code",
      "source": [
        "#Uma empresa tem duas dívidas a pagar: a primeira, de $2.500, contratada a juros simples de 2,5% a.m.,\n",
        "#vence daqui a 45 dias; e a segunda, de $3.500, a juros simples de 3% a.m., vence daqui a 90 dias.\n",
        "#Calcular a quantia necessária que liquide ambas as dívidas daqui a 180 dias, considerando que,\n",
        "\n",
        "#no 30o dia do seu prazo, a primeira dívida foi amortizada em $1.500 e,\n",
        "#no 60o dia do seu prazo, a segunda foi amortizada em $3.000.\n",
        "#(Data focal: 180o dia.)\n",
        "\n",
        "#Parte 1 da dívida:\n",
        "\n",
        "valor_antes_da_amortizacao1 = 2500 * (1 + 0.025 * 1)\n",
        "parte1 = (valor_antes_da_amortizacao1 - 1500) * (1 + 0.025 * 5)\n",
        "\n",
        "#Parte 2 da dívida:\n",
        "\n",
        "valor_antes_da_amortizacao2 = 3500 * (1 + 0.03 * 2)\n",
        "parte2 = (valor_antes_da_amortizacao2 - 3000) * (1+ 0.03 * 4)\n",
        "\n",
        "total = parte1 + parte2\n",
        "total"
      ],
      "metadata": {
        "colab": {
          "base_uri": "https://localhost:8080/"
        },
        "id": "A6PlrMvLvQNg",
        "outputId": "f31ea4f7-f9f2-4774-f9aa-1843ceb827a2"
      },
      "execution_count": 77,
      "outputs": [
        {
          "output_type": "execute_result",
          "data": {
            "text/plain": [
              "1990.5125"
            ]
          },
          "metadata": {},
          "execution_count": 77
        }
      ]
    },
    {
      "cell_type": "markdown",
      "source": [
        "Determinar:\n",
        "a. a taxa de juros simples anual que produz um rendimento de 60reais em 36 dias a partir de um capital de 2.000reais\n",
        "\n",
        "b. a taxa de juros simples mensal que produz um rendimento de 6.000reais em 30 meses a partir de um capital de 8.000reais\n",
        "\n",
        "c. a taxa de juros simples anual embutida na compra de um bem cujo valor à vista é de 3.000reais, pelo qual será paga uma entrada de 1.000reais mais um pagamento de 2.200reais para 60 dias\n"
      ],
      "metadata": {
        "id": "hXxWjiZr0K3Q"
      }
    },
    {
      "cell_type": "code",
      "source": [
        "#a\n",
        "\n",
        "i = sympy.symbols('i')\n",
        "\n",
        "R = 60\n",
        "n = 36 / 360\n",
        "P = 2000\n",
        "\n",
        "#R = P (i * n)\n",
        "\n",
        "eq = sympy.Eq(P * (i * n),R)\n",
        "\n",
        "solucao = sympy.solve(eq, i)\n",
        "print(f\"{round(solucao[0],2)} a.a.\")"
      ],
      "metadata": {
        "colab": {
          "base_uri": "https://localhost:8080/"
        },
        "id": "DCDIokjVzen_",
        "outputId": "58be9c4a-abdc-411c-e748-595a331c1511"
      },
      "execution_count": 85,
      "outputs": [
        {
          "output_type": "stream",
          "name": "stdout",
          "text": [
            "0.30 a.a.\n"
          ]
        }
      ]
    },
    {
      "cell_type": "code",
      "source": [
        "#b\n",
        "\n",
        "i = sympy.symbols('i')\n",
        "\n",
        "R = 6000\n",
        "n = 30\n",
        "P = 8000\n",
        "\n",
        "#R = P (i * n)\n",
        "\n",
        "eq = sympy.Eq(P * (i * n),R)\n",
        "\n",
        "solucao = sympy.solve(eq, i)\n",
        "print(f\"{round(solucao[0],3)} a.a.\")"
      ],
      "metadata": {
        "colab": {
          "base_uri": "https://localhost:8080/"
        },
        "id": "isVYv9bK2zBp",
        "outputId": "403bea51-2280-460b-a864-5cc34fb0f88a"
      },
      "execution_count": 87,
      "outputs": [
        {
          "output_type": "stream",
          "name": "stdout",
          "text": [
            "0.025 a.a.\n"
          ]
        }
      ]
    },
    {
      "cell_type": "code",
      "source": [
        "#c\n",
        "\n",
        "i = sympy.symbols('i')\n",
        "\n",
        "n = 60 / 360\n",
        "P = 3000 - 1000\n",
        "R = 2200 - P\n",
        "\n",
        "#R = P (i * n)\n",
        "\n",
        "eq = sympy.Eq(P * (i * n),R)\n",
        "\n",
        "solucao = sympy.solve(eq, i)\n",
        "print(f\"{round(solucao[0],2)} a.a.\")"
      ],
      "metadata": {
        "colab": {
          "base_uri": "https://localhost:8080/"
        },
        "id": "QdMDFwr43YPM",
        "outputId": "db368f3a-338a-42e3-ae35-89c53a7553c8"
      },
      "execution_count": 89,
      "outputs": [
        {
          "output_type": "stream",
          "name": "stdout",
          "text": [
            "0.60 a.a.\n"
          ]
        }
      ]
    },
    {
      "cell_type": "code",
      "source": [
        "#No dia 26 de maio foi contratado um empréstimo de $7.000 a juros simples de 24% a.a. para ser\n",
        "#totalmente liquidado em 90 dias. No dia 16 de junho foram amortizados $3.000, e no dia 11 de\n",
        "#julho, $2.500. Determinar a data de vencimento da dívida e o valor da quantia que deverá ser paga\n",
        "#naquela data para liquidar a dívida. (Data focal: 90o dia.)\n",
        "\n",
        "ntotal = 90\n",
        "#datafinal = 146 + 90 = 236 ou 24 de agosto\n",
        "\n",
        "\n",
        "Stotal = 7000 * (1 + (0.24/360) * 90)\n",
        "\n",
        "Amortizacao1 = 3000 * (1 + (0.24/360) * 69)\n",
        "\n",
        "Amortizacao2 = 2500 * (1 + (0.24/360) * 44)\n",
        "\n",
        "x = Stotal - Amortizacao1 - Amortizacao2\n",
        "\n",
        "print(f\"Valor a ser pago: ${round(x,2)}\")\n",
        "print(\"Em 24 de agosto\")\n"
      ],
      "metadata": {
        "colab": {
          "base_uri": "https://localhost:8080/"
        },
        "id": "9Wt1koBQ5iLZ",
        "outputId": "cc87c4ac-68cf-4bf6-84f7-7dc90207025b"
      },
      "execution_count": 91,
      "outputs": [
        {
          "output_type": "stream",
          "name": "stdout",
          "text": [
            "Valor a ser pago: $1708.67\n",
            "Em 24 de agosto\n"
          ]
        }
      ]
    },
    {
      "cell_type": "code",
      "source": [
        "#Uma aplicação financeira foi iniciada no dia 2 de junho com $2.000. Posteriormente, foram\n",
        "#efetuados dois depósitos adicionais de $500 e de $300 nos dias 8 e 16 e um saque de $200 no dia\n",
        "#26 de junho. Se inicialmente foi contratada uma taxa de juros simples de 28% a.a., que depois\n",
        "#baixou para 26% a.a. no dia 16 de junho, calcular o saldo disponível em 1o de julho.\n",
        "\n",
        "#data final: 01/07 (dia 182)\n",
        "#tempo da primeira aplicação, em 02/06, até 16/06\n",
        "\n",
        "n1 = 167 - 153\n",
        "\n",
        "#tempo da segunda aplicação, em 08/06, até 16/06\n",
        "\n",
        "n2 = 167 - 159\n",
        "\n",
        "#tempo do novo regime da primeira, segunda e terceira aplicação (16/06) até o fim (01/07)\n",
        "\n",
        "n3 = 182 - 167\n",
        "\n",
        "#tempo da saque até o fim (26/06)\n",
        "\n",
        "n4 = 182 - 177\n",
        "\n",
        "saldo = ((2000 *(1+ (0.28/360) * n1) + 500 *(1 + (0.28/360) * n2)) + 300) * (1+ (0.26/360)* n3) - 200 * (1 + (0.26/360) * n4)\n",
        "print(f\"Saldo de ${round(saldo,2)}\")"
      ],
      "metadata": {
        "colab": {
          "base_uri": "https://localhost:8080/"
        },
        "id": "AXadGLZ1Lwqu",
        "outputId": "79b1b7fd-fbfd-48bb-d994-212e2d18b41f"
      },
      "execution_count": 94,
      "outputs": [
        {
          "output_type": "stream",
          "name": "stdout",
          "text": [
            "Saldo de $2654.77\n"
          ]
        }
      ]
    }
  ]
}